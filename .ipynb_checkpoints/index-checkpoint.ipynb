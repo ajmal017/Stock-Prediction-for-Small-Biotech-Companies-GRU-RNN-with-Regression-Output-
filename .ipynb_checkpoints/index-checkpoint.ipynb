{
 "cells": [
  {
   "cell_type": "markdown",
   "metadata": {},
   "source": [
    "### Libraries"
   ]
  },
  {
   "cell_type": "code",
   "execution_count": 1,
   "metadata": {},
   "outputs": [],
   "source": [
    "from ibapi.client import EClient\n",
    "from ibapi.wrapper import EWrapper\n",
    "from ibapi.contract import Contract\n",
    "import datetime\n",
    "import json\n",
    "import time\n",
    "import os\n",
    "clear = lambda : os.system('cls')"
   ]
  },
  {
   "cell_type": "code",
   "execution_count": 2,
   "metadata": {},
   "outputs": [],
   "source": [
    "endDateTimes = [(i+1,(datetime.datetime.today() \n",
    "                      - datetime.timedelta(days=i)).strftime(\"%Y%m%d %H:%M:%S\")) for i in range(0, (365*5))]"
   ]
  },
  {
   "cell_type": "code",
   "execution_count": 3,
   "metadata": {},
   "outputs": [],
   "source": [
    "\n",
    "class TestApp(EWrapper, EClient):\n",
    "    \n",
    "    def __init__(self, count=0):\n",
    "        time.sleep(.5)\n",
    "        EClient.__init__(self,self)\n",
    "        self.list_of_dict= []\n",
    "        self.count = count\n",
    "    \n",
    "    def error(self, reqId, errorCode, errorString):\n",
    "        self.count += 1\n",
    "        time.sleep(.5)\n",
    "        print(\"Error:\", reqId, \" \", errorCode, \" \", errorString)\n",
    "    \n",
    "             \n",
    "        \n",
    "        \n",
    "    def historicalData(self,reqId, bar):\n",
    "        self.count += 1\n",
    "        time.sleep(.5)\n",
    "        print(reqId, self.count)\n",
    "        #print(\"HistoricalData. \", reqId, \" Date:\", bar.date, \" Open:\", bar.open, \" High:\", bar.high, \" Low:\", bar.low,\n",
    "        #      ' Close:', bar.close,  \" Volume:\", bar.volume)\n",
    "        self.list_of_dict.append({'Date': bar.date, \"Open\": bar.open, \"High\": bar.high, \"Low\":bar.low, 'Close':bar.close, \"Volume\": bar.volume})\n",
    "        \n",
    "                \n",
    "    def toggle_connection(self):\n",
    "        l= err\n",
    "        \n",
    "    \n",
    "\n",
    "       \n",
    "        "
   ]
  },
  {
   "cell_type": "code",
   "execution_count": 4,
   "metadata": {},
   "outputs": [],
   "source": [
    "contract = Contract()\n",
    "contract.symbol = 'ITCI'\n",
    "contract.secType = 'STK'\n",
    "contract.exchange = 'SMART'\n",
    "contract.currency = 'USD'\n",
    "contract.primaryExchange = 'NASDAQ'\n"
   ]
  },
  {
   "cell_type": "code",
   "execution_count": 5,
   "metadata": {},
   "outputs": [],
   "source": [
    "app = TestApp()\n",
    "app.connect(\"127.0.0.1\", 7496, 0)"
   ]
  },
  {
   "cell_type": "code",
   "execution_count": 6,
   "metadata": {},
   "outputs": [],
   "source": [
    "for index, endDateTime in endDateTimes[:0]:\n",
    "    app.reqHistoricalData((index), contract, endDateTime, '1 D', '1 min', 'TRADES', 0, 1, False, [])"
   ]
  },
  {
   "cell_type": "markdown",
   "metadata": {},
   "source": [
    " app.reqHistoricalData(1, contract, endDateTimes[0][1], '1 D', '1 min', 'TRADES', 0, 1, False, [])"
   ]
  },
  {
   "cell_type": "code",
   "execution_count": null,
   "metadata": {
    "scrolled": false
   },
   "outputs": [
    {
     "name": "stdout",
     "output_type": "stream",
     "text": [
      "Error: -1   2104   Market data farm connection is OK:usfarm.nj\n",
      "Error: -1   2104   Market data farm connection is OK:usfarm\n",
      "Error: -1   2106   HMDS data farm connection is OK:ushmds\n"
     ]
    }
   ],
   "source": [
    "try:\n",
    "    app.run()\n",
    "except:\n",
    "    len(app.lislist_of_dict_)"
   ]
  },
  {
   "cell_type": "code",
   "execution_count": null,
   "metadata": {},
   "outputs": [],
   "source": []
  }
 ],
 "metadata": {
  "kernelspec": {
   "display_name": "Python 3",
   "language": "python",
   "name": "python3"
  },
  "language_info": {
   "codemirror_mode": {
    "name": "ipython",
    "version": 3
   },
   "file_extension": ".py",
   "mimetype": "text/x-python",
   "name": "python",
   "nbconvert_exporter": "python",
   "pygments_lexer": "ipython3",
   "version": "3.7.3"
  }
 },
 "nbformat": 4,
 "nbformat_minor": 2
}
