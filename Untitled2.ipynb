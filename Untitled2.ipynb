{
 "cells": [
  {
   "cell_type": "code",
   "execution_count": 1,
   "metadata": {},
   "outputs": [
    {
     "name": "stderr",
     "output_type": "stream",
     "text": [
      "Using TensorFlow backend.\n"
     ]
    }
   ],
   "source": [
    "import datetime\n",
    "import json\n",
    "import numpy as np\n",
    "import matplotlib.pyplot as plt\n",
    "from keras.preprocessing import image\n",
    "from helper import data_to_tensor\n",
    "import matplotlib.pyplot as plt"
   ]
  },
  {
   "cell_type": "code",
   "execution_count": 2,
   "metadata": {},
   "outputs": [],
   "source": [
    "with open('stock_info.json', 'r') as f:\n",
    "    data = json.load(f)"
   ]
  },
  {
   "cell_type": "code",
   "execution_count": 3,
   "metadata": {},
   "outputs": [],
   "source": [
    "stocks = [ stock for stock in data.keys()]"
   ]
  },
  {
   "cell_type": "code",
   "execution_count": 9,
   "metadata": {},
   "outputs": [
    {
     "data": {
      "text/plain": [
       "['XBIT',\n",
       " 'ALEC',\n",
       " 'ORTX',\n",
       " 'ADVM',\n",
       " 'MGNX',\n",
       " 'AKRO',\n",
       " 'ESPR',\n",
       " 'BHVN',\n",
       " 'YMAB',\n",
       " 'RGNX',\n",
       " 'MYOK',\n",
       " 'TPTX',\n",
       " 'ATNX',\n",
       " 'BLUE',\n",
       " 'AGEN',\n",
       " 'AVRO',\n",
       " 'DCPH',\n",
       " 'CTMX',\n",
       " 'SRNE',\n",
       " 'ARDX',\n",
       " 'BCRX',\n",
       " 'RETA',\n",
       " 'KOD',\n",
       " 'DTIL',\n",
       " 'RARX',\n",
       " 'AUTL',\n",
       " 'GTHX',\n",
       " 'CARA',\n",
       " 'KDMN',\n",
       " 'XNCR',\n",
       " 'ACHN',\n",
       " 'ARNA',\n",
       " 'RCKT',\n",
       " 'TBIO',\n",
       " 'VYGR',\n",
       " 'SGMO',\n",
       " 'ODT',\n",
       " 'ANAB',\n",
       " 'ATRA',\n",
       " 'CNST',\n",
       " 'GERN',\n",
       " 'BPMC',\n",
       " 'ALLO',\n",
       " 'BBIO',\n",
       " 'FGEN',\n",
       " 'PGNX',\n",
       " 'MGTX',\n",
       " 'NXTC',\n",
       " 'IMMU',\n",
       " 'ZIOP',\n",
       " 'CRSP',\n",
       " 'IOVA',\n",
       " 'VKTX',\n",
       " 'EIDX',\n",
       " 'MYOV',\n",
       " 'AMRS',\n",
       " 'KRYS',\n",
       " 'KURA',\n",
       " 'MDGL',\n",
       " 'UBX',\n",
       " 'TCDA',\n",
       " 'QURE',\n",
       " 'MRTX',\n",
       " 'ASMB',\n",
       " 'GLYC',\n",
       " 'RYTM',\n",
       " 'FIXX',\n",
       " 'DRNA',\n",
       " 'ARWR',\n",
       " 'ALLK',\n",
       " 'GOSS',\n",
       " 'WVE']"
      ]
     },
     "execution_count": 9,
     "metadata": {},
     "output_type": "execute_result"
    }
   ],
   "source": [
    "stocks[24:]"
   ]
  },
  {
   "cell_type": "code",
   "execution_count": null,
   "metadata": {},
   "outputs": [],
   "source": [
    "period = 60\n",
    "fig, (ax1, ax2, ax3) = plt.subplots(3, 1, figsize=(10,10))\n",
    "for stock in stocks: \n",
    "    start = datetime.datetime.now()\n",
    "    stock_dict_list = data[stock]\n",
    "    for index, dict_ in enumerate(stock_dict_list):\n",
    "        if index-period >= 0 :\n",
    "            high = [dict_['High'] for dict_ in stock_dict_list[index-period:index]]\n",
    "            low = [dict_['Low'] for dict_ in stock_dict_list[index-period:index]]\n",
    "            volume = [dict_['Volume'] for dict_ in stock_dict_list[index-period:index]]\n",
    "            volume = volume/ np.max(volume)  \n",
    "            open_ = [dict_['Open'] for dict_ in stock_dict_list[index-period:index]]\n",
    "            ad_close = [dict_['Adj Close'] for dict_ in stock_dict_list[index-period:index]]\n",
    "            close = [dict_['Close'] for dict_ in stock_dict_list[index-period:index]]\n",
    "            \n",
    "            #High, low, and close price on plot\n",
    "\n",
    "            ax1.plot(list(range(0,len(high))), high, color='g')\n",
    "            ax1.plot(list(range(0,len(low))), low, color='r')\n",
    "            ax1.plot(list(range(0,len(close))), close, color='b')\n",
    "            ax1.axis('off')\n",
    "\n",
    "            ax2.plot(list(range(0,len(high))), high, color='g')\n",
    "            ax2.plot(list(range(0,len(low))), low, color='r')\n",
    "            ax2.plot(list(range(0,len(open_))), open_, color='b')\n",
    "            ax2.axis('off')\n",
    "\n",
    "            ax3.plot(list(range(0,len(volume))), volume, color='g')\n",
    "            ax3.axis('off')\n",
    "            filepath = f'C:/Users/FlatIron_User/capstone_stock/{stock}_{index}.png'\n",
    "            fig.savefig(filepath)\n",
    "            ax1.cla()\n",
    "            ax2.cla()\n",
    "            ax3.cla()\n",
    "\n",
    "\n",
    "        else:\n",
    "            filepath = None\n",
    "        stock_dict_list[index]['Tensor'] = filepath \n",
    "        \n",
    "    data[stock] = stock_dict_list\n",
    "    print(stock, datetime.datetime.now().strftime(\"%m/%d/%Y, %H:%M:%S\"), (datetime.datetime.now()- start))\n",
    "  "
   ]
  },
  {
   "cell_type": "code",
   "execution_count": null,
   "metadata": {
    "scrolled": true
   },
   "outputs": [],
   "source": [
    "with open('stock_with_image.json', 'w') as f:\n",
    "    json.dump(data, f)"
   ]
  },
  {
   "cell_type": "code",
   "execution_count": null,
   "metadata": {},
   "outputs": [],
   "source": []
  }
 ],
 "metadata": {
  "kernelspec": {
   "display_name": "Python [conda env:.conda-learn-env12_12_19] *",
   "language": "python",
   "name": "conda-env-.conda-learn-env12_12_19-py"
  },
  "language_info": {
   "codemirror_mode": {
    "name": "ipython",
    "version": 3
   },
   "file_extension": ".py",
   "mimetype": "text/x-python",
   "name": "python",
   "nbconvert_exporter": "python",
   "pygments_lexer": "ipython3",
   "version": "3.6.6"
  }
 },
 "nbformat": 4,
 "nbformat_minor": 2
}
