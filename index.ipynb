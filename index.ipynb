{
 "cells": [
  {
   "cell_type": "markdown",
   "metadata": {},
   "source": [
    "### Libraries"
   ]
  },
  {
   "cell_type": "code",
   "execution_count": 1,
   "metadata": {},
   "outputs": [],
   "source": [
    "from ibapi.client import EClient\n",
    "from ibapi.wrapper import EWrapper\n",
    "from ibapi.contract import Contract\n",
    "import datetime\n",
    "import json\n",
    "import time\n",
    "import os\n"
   ]
  },
  {
   "cell_type": "code",
   "execution_count": 2,
   "metadata": {},
   "outputs": [],
   "source": [
    "endDateTimes = [(i+1,(datetime.datetime.today() \n",
    "                      - datetime.timedelta(days=i)).strftime(\"%Y%m%d %H:%M:%S\")) for i in range(0, (365*5))]"
   ]
  },
  {
   "cell_type": "code",
   "execution_count": 3,
   "metadata": {},
   "outputs": [],
   "source": [
    "\n",
    "class TestApp(EWrapper, EClient):\n",
    "    \n",
    "    def __init__(self, count=0):\n",
    "        \n",
    "        print('i')\n",
    "        EClient.__init__(self,self)\n",
    "        self.list_of_dict= []\n",
    "        self.count = count\n",
    "    \n",
    "    def error(self, reqId, errorCode, errorString):\n",
    "        \n",
    "        self.count += 1\n",
    "        time.sleep(.5)\n",
    "        print(\"Error:\", reqId, \" \", errorCode, \" \", errorString)\n",
    "            \n",
    "    def historicalData(self,reqId, bar):\n",
    "        self.count += 1\n",
    "        time.sleep(.05)\n",
    "        os.system(\"clear\")\n",
    "        \n",
    "        \n",
    "        #print(\"HistoricalData. \", reqId, \" Date:\", bar.date, \" Open:\", bar.open, \" High:\", bar.high, \" Low:\", bar.low,\n",
    "        #      ' Close:', bar.close,  \" Volume:\", bar.volume)\n",
    "        self.list_of_dict.append({'Date': datetime.datetime.strptime(bar.date, \"%Y%m%d %H:%M:%S\"), \"Open\": bar.open, \"High\": bar.high, \"Low\":bar.low, 'Close':bar.close, \"Volume\": bar.volume})\n",
    "        print(len(self.list_of_dict))\n",
    "                \n",
    "    def toggle_connection(self):\n",
    "        l= err\n",
    "        \n",
    "    \n",
    "\n",
    "       \n",
    "        "
   ]
  },
  {
   "cell_type": "code",
   "execution_count": null,
   "metadata": {},
   "outputs": [],
   "source": []
  },
  {
   "cell_type": "code",
   "execution_count": 4,
   "metadata": {},
   "outputs": [],
   "source": [
    "contract = Contract()\n",
    "contract.symbol = 'ITCI'\n",
    "contract.secType = 'STK'\n",
    "contract.exchange = 'SMART'\n",
    "contract.currency = 'USD'\n",
    "contract.primaryExchange = 'NASDAQ'\n",
    "list_dict =[]"
   ]
  },
  {
   "cell_type": "code",
   "execution_count": 5,
   "metadata": {
    "scrolled": false
   },
   "outputs": [
    {
     "name": "stdout",
     "output_type": "stream",
     "text": [
      "i\n",
      "i\n"
     ]
    }
   ],
   "source": [
    "app = TestApp()\n",
    "app.connect(\"127.0.0.1\", 7496, 0) \n",
    "app.reqHistoricalData(1, contract, endDateTimes[-1][1], '1 D', '1 min', 'TRADES', 0, 1, False, [])\n",
    "try:\n",
    "    print('i')\n",
    "    app.run()\n",
    "except:\n",
    "    for i in app.list_of_dict:\n",
    "        list_dict.append(i)"
   ]
  },
  {
   "cell_type": "code",
   "execution_count": null,
   "metadata": {},
   "outputs": [],
   "source": []
  }
 ],
 "metadata": {
  "kernelspec": {
   "display_name": "Python 3",
   "language": "python",
   "name": "python3"
  },
  "language_info": {
   "codemirror_mode": {
    "name": "ipython",
    "version": 3
   },
   "file_extension": ".py",
   "mimetype": "text/x-python",
   "name": "python",
   "nbconvert_exporter": "python",
   "pygments_lexer": "ipython3",
   "version": "3.7.3"
  }
 },
 "nbformat": 4,
 "nbformat_minor": 2
}
