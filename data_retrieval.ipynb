{
  "nbformat": 4,
  "nbformat_minor": 0,
  "metadata": {
    "kernelspec": {
      "name": "python3",
      "display_name": "Python 3"
    },
    "language_info": {
      "codemirror_mode": {
        "name": "ipython",
        "version": 3
      },
      "file_extension": ".py",
      "mimetype": "text/x-python",
      "name": "python",
      "nbconvert_exporter": "python",
      "pygments_lexer": "ipython3",
      "version": "3.6.6"
    },
    "colab": {
      "name": "data_retrieval.ipynb",
      "provenance": []
    },
    "accelerator": "GPU"
  },
  "cells": [
    {
      "cell_type": "code",
      "metadata": {
        "scrolled": true,
        "id": "ECYu4kAkx5Bc",
        "colab_type": "code",
        "colab": {
          "base_uri": "https://localhost:8080/",
          "height": 81
        },
        "outputId": "7770693e-9940-49c0-e54f-d50d096e4d9a"
      },
      "source": [
        "import pandas as pd\n",
        "import datetime\n",
        "import json\n",
        "import pandas_datareader as pdr\n",
        "import numpy as np\n",
        "import matplotlib.pyplot as plt\n",
        "from keras import models\n",
        "from keras import layers\n",
        "from keras import optimizers\n",
        "from matplotlib.image import imread\n",
        "from keras.preprocessing import image\n",
        "from sklearn.metrics import r2_score\n",
        "import seaborn as sns"
      ],
      "execution_count": 1,
      "outputs": [
        {
          "output_type": "stream",
          "text": [
            "Using TensorFlow backend.\n"
          ],
          "name": "stderr"
        },
        {
          "output_type": "display_data",
          "data": {
            "text/html": [
              "<p style=\"color: red;\">\n",
              "The default version of TensorFlow in Colab will soon switch to TensorFlow 2.x.<br>\n",
              "We recommend you <a href=\"https://www.tensorflow.org/guide/migrate\" target=\"_blank\">upgrade</a> now \n",
              "or ensure your notebook will continue to use TensorFlow 1.x via the <code>%tensorflow_version 1.x</code> magic:\n",
              "<a href=\"https://colab.research.google.com/notebooks/tensorflow_version.ipynb\" target=\"_blank\">more info</a>.</p>\n"
            ],
            "text/plain": [
              "<IPython.core.display.HTML object>"
            ]
          },
          "metadata": {
            "tags": []
          }
        }
      ]
    },
    {
      "cell_type": "markdown",
      "metadata": {
        "id": "DlJQtfuxx5Bl",
        "colab_type": "text"
      },
      "source": [
        "### Pulling stock list from Virtus LifeSci Biotech ETF"
      ]
    },
    {
      "cell_type": "code",
      "metadata": {
        "id": "Hrrzwx3cx5Bn",
        "colab_type": "code",
        "colab": {}
      },
      "source": [
        "stocks = pd.read_excel('positions_bbc.xls', index_col=0, skiprows=1).Ticker.values"
      ],
      "execution_count": 0,
      "outputs": []
    },
    {
      "cell_type": "code",
      "metadata": {
        "id": "IljTaWhix5Br",
        "colab_type": "code",
        "colab": {
          "base_uri": "https://localhost:8080/",
          "height": 225
        },
        "outputId": "f4c7dfae-34d9-4116-e418-bf7d522616a9"
      },
      "source": [
        "pdr.get_data_yahoo(stocks[0], start='2000-01-01').head()"
      ],
      "execution_count": 3,
      "outputs": [
        {
          "output_type": "execute_result",
          "data": {
            "text/html": [
              "<div>\n",
              "<style scoped>\n",
              "    .dataframe tbody tr th:only-of-type {\n",
              "        vertical-align: middle;\n",
              "    }\n",
              "\n",
              "    .dataframe tbody tr th {\n",
              "        vertical-align: top;\n",
              "    }\n",
              "\n",
              "    .dataframe thead th {\n",
              "        text-align: right;\n",
              "    }\n",
              "</style>\n",
              "<table border=\"1\" class=\"dataframe\">\n",
              "  <thead>\n",
              "    <tr style=\"text-align: right;\">\n",
              "      <th></th>\n",
              "      <th>High</th>\n",
              "      <th>Low</th>\n",
              "      <th>Open</th>\n",
              "      <th>Close</th>\n",
              "      <th>Volume</th>\n",
              "      <th>Adj Close</th>\n",
              "    </tr>\n",
              "    <tr>\n",
              "      <th>Date</th>\n",
              "      <th></th>\n",
              "      <th></th>\n",
              "      <th></th>\n",
              "      <th></th>\n",
              "      <th></th>\n",
              "      <th></th>\n",
              "    </tr>\n",
              "  </thead>\n",
              "  <tbody>\n",
              "    <tr>\n",
              "      <th>2014-01-07</th>\n",
              "      <td>17.00</td>\n",
              "      <td>15.000000</td>\n",
              "      <td>16.0</td>\n",
              "      <td>15.000000</td>\n",
              "      <td>59800</td>\n",
              "      <td>15.000000</td>\n",
              "    </tr>\n",
              "    <tr>\n",
              "      <th>2014-01-08</th>\n",
              "      <td>18.00</td>\n",
              "      <td>16.000000</td>\n",
              "      <td>17.5</td>\n",
              "      <td>17.000000</td>\n",
              "      <td>51100</td>\n",
              "      <td>17.000000</td>\n",
              "    </tr>\n",
              "    <tr>\n",
              "      <th>2014-01-09</th>\n",
              "      <td>17.75</td>\n",
              "      <td>17.100000</td>\n",
              "      <td>17.5</td>\n",
              "      <td>17.500000</td>\n",
              "      <td>159900</td>\n",
              "      <td>17.500000</td>\n",
              "    </tr>\n",
              "    <tr>\n",
              "      <th>2014-01-10</th>\n",
              "      <td>20.00</td>\n",
              "      <td>17.500000</td>\n",
              "      <td>17.5</td>\n",
              "      <td>18.000000</td>\n",
              "      <td>157100</td>\n",
              "      <td>18.000000</td>\n",
              "    </tr>\n",
              "    <tr>\n",
              "      <th>2014-01-13</th>\n",
              "      <td>18.50</td>\n",
              "      <td>18.200001</td>\n",
              "      <td>18.4</td>\n",
              "      <td>18.200001</td>\n",
              "      <td>5000</td>\n",
              "      <td>18.200001</td>\n",
              "    </tr>\n",
              "  </tbody>\n",
              "</table>\n",
              "</div>"
            ],
            "text/plain": [
              "             High        Low  Open      Close  Volume  Adj Close\n",
              "Date                                                            \n",
              "2014-01-07  17.00  15.000000  16.0  15.000000   59800  15.000000\n",
              "2014-01-08  18.00  16.000000  17.5  17.000000   51100  17.000000\n",
              "2014-01-09  17.75  17.100000  17.5  17.500000  159900  17.500000\n",
              "2014-01-10  20.00  17.500000  17.5  18.000000  157100  18.000000\n",
              "2014-01-13  18.50  18.200001  18.4  18.200001    5000  18.200001"
            ]
          },
          "metadata": {
            "tags": []
          },
          "execution_count": 3
        }
      ]
    },
    {
      "cell_type": "markdown",
      "metadata": {
        "id": "J65CzkyOx5Bv",
        "colab_type": "text"
      },
      "source": [
        "#### Creating dictionary and JSON"
      ]
    },
    {
      "cell_type": "code",
      "metadata": {
        "id": "fCLXekNux5Bw",
        "colab_type": "code",
        "colab": {}
      },
      "source": [
        "\n",
        "dataframe_dict= {}\n",
        "for stock in stocks: \n",
        "\n",
        "    df = pdr.get_data_yahoo(stock, start='2000-01-01')\n",
        "    # Change inde to a date  string\n",
        "    df['Date'] = df.index.strftime(\"%Y-%m-%d %H:%M:%S\")\n",
        "    \n",
        "    dataframe_dict[stock] = df.to_dict('records')\n"
      ],
      "execution_count": 0,
      "outputs": []
    },
    {
      "cell_type": "markdown",
      "metadata": {
        "id": "dYt5NOy50CpF",
        "colab_type": "text"
      },
      "source": [
        ""
      ]
    },
    {
      "cell_type": "code",
      "metadata": {
        "colab_type": "code",
        "id": "-PeF51ii0DLQ",
        "colab": {}
      },
      "source": [
        "data = dataframe_dict"
      ],
      "execution_count": 0,
      "outputs": []
    },
    {
      "cell_type": "markdown",
      "metadata": {
        "id": "r6LX4GlFx5B9",
        "colab_type": "text"
      },
      "source": [
        "### Creating a dictionary and JSON for Benchmark index and ETF"
      ]
    },
    {
      "cell_type": "markdown",
      "metadata": {
        "scrolled": true,
        "id": "rxEHfYqpx5CD",
        "colab_type": "text"
      },
      "source": [
        "```python\n",
        "benchmark_dict = {}\n",
        "# SP500(broader market)\n",
        "df = pdr.get_data_yahoo('SPY', start='2000-01-01')\n",
        "df.index = df.index.strftime(\"%Y-%m-%d %H:%M:%S\")\n",
        "benchmark_dict['SPY'] = df.to_dict('index')\n",
        "\n",
        "# Vanguard Health Care Index Fund (Healthcare Industry)\n",
        "df = pdr.get_data_yahoo('VHT', start='2009-01-01')\n",
        "df.index = df.index.strftime(\"%Y-%m-%d %H:%M:%S\")\n",
        "benchmark_dict['VHT'] = df.to_dict('index')\n",
        "\n",
        "#SPDR S&P Pharmaceuticals ETF (Pharmaceutical Drug Industry)\n",
        "df = pdr.get_data_yahoo('XPH', start='2009-01-01')\n",
        "df.index = df.index.strftime(\"%Y-%m-%d %H:%M:%S\")\n",
        "benchmark_dict['XPH'] = df.to_dict('index')\n",
        "```"
      ]
    },
    {
      "cell_type": "code",
      "metadata": {
        "id": "T9iZzDvox5CJ",
        "colab_type": "code",
        "colab": {}
      },
      "source": [
        ""
      ],
      "execution_count": 0,
      "outputs": []
    },
    {
      "cell_type": "markdown",
      "metadata": {
        "id": "6VtyiYGXx5CQ",
        "colab_type": "text"
      },
      "source": [
        "### Creating the Target"
      ]
    },
    {
      "cell_type": "code",
      "metadata": {
        "id": "oeNE6hB0yNUZ",
        "colab_type": "code",
        "colab": {}
      },
      "source": [
        "#Next Day Max/Min Value (% Difference from Closing Price)¶\n",
        "start = datetime.datetime.now()\n",
        "period = [1, 2]\n",
        "for stock in stocks:\n",
        "    \n",
        "    stock_dict_list = data[stock]\n",
        "    num_days = len(stock_dict_list)\n",
        "    for index, dict_ in enumerate(stock_dict_list):\n",
        "        _open = dict_['Open']\n",
        "        if index+period[1] >= num_days:\n",
        "            _low = None\n",
        "            _max = None\n",
        "        else:\n",
        "            _low = np.min([dict_['Low'] for dict_ in stock_dict_list[index+period[0]:index+period[1]]])/ _open -1\n",
        "            _max = np.max([dict_['High'] for dict_ in stock_dict_list[index+period[0]:index+period[1]]])/ _open -1\n",
        "        stock_dict_list[index]['Low_1'] = _low\n",
        "        stock_dict_list[index]['Max_1'] = _max\n",
        "    data[stock] = stock_dict_list\n",
        "\n",
        "# 3 Day Max/Min Value (% Difference from Closing Price)\n",
        "# The range is from the 2nd day to the 3rd after the input day\n",
        "start = datetime.datetime.now()\n",
        "period = [2, 4]\n",
        "for stock in stocks:\n",
        "    \n",
        "    stock_dict_list = data[stock]\n",
        "    num_days = len(stock_dict_list)\n",
        "    for index, dict_ in enumerate(stock_dict_list):\n",
        "        _open = dict_['Open']\n",
        "        if index+period[1] >= num_days:\n",
        "            _low = None\n",
        "            _max = None\n",
        "        else:\n",
        "            _low = np.min([dict_['Low'] for dict_ in stock_dict_list[index+period[0]:index+period[1]]])/ _open -1\n",
        "            _max = np.max([dict_['High'] for dict_ in stock_dict_list[index+period[0]:index+period[1]]])/ _open -1\n",
        "        stock_dict_list[index]['Low_3'] = _low\n",
        "        stock_dict_list[index]['Max_3'] = _max\n",
        "    data[stock] = stock_dict_list\n",
        "\n",
        "# 10 Day Max/Min Value (% Difference from Closing Price)\n",
        "# The range is from the 4th day to the 10th after the input day\n",
        "\n",
        "start = datetime.datetime.now()\n",
        "period = [4, 11]\n",
        "for stock in stocks:\n",
        "    \n",
        "    stock_dict_list = data[stock]\n",
        "    num_days = len(stock_dict_list)\n",
        "    for index, dict_ in enumerate(stock_dict_list):\n",
        "        _open = dict_['Open']\n",
        "        if index+period[1] >= num_days:\n",
        "            _low = None\n",
        "            _max = None\n",
        "        else:\n",
        "            _low = np.min([dict_['Low'] for dict_ in stock_dict_list[index+period[0]:index+period[1]]])/ _open -1\n",
        "            _max = np.max([dict_['High'] for dict_ in stock_dict_list[index+period[0]:index+period[1]]])/ _open -1\n",
        "        stock_dict_list[index]['Low_10'] = _low\n",
        "        stock_dict_list[index]['Max_10'] = _max\n",
        "    data[stock] = stock_dict_list\n",
        "\n",
        "# 30 Day Max/Min Value (% Difference from Closing Price)\n",
        "# The range is from the 11th day to the 30th after the input day\n",
        "start = datetime.datetime.now()\n",
        "period = [11, 31]\n",
        "for stock in stocks:\n",
        "    \n",
        "    stock_dict_list = data[stock]\n",
        "    num_days = len(stock_dict_list)\n",
        "    for index, dict_ in enumerate(stock_dict_list):\n",
        "        _open = dict_['Open']\n",
        "        if index+period[1] >= num_days:\n",
        "            _low = None\n",
        "            _max = None\n",
        "        else:\n",
        "            _low = np.min([dict_['Low'] for dict_ in stock_dict_list[index+period[0]:index+period[1]]])/ _open -1\n",
        "            _max = np.max([dict_['High'] for dict_ in stock_dict_list[index+period[0]:index+period[1]]])/ _open -1\n",
        "        stock_dict_list[index]['Low_30'] = _low\n",
        "        stock_dict_list[index]['Max_30'] = _max\n",
        "    data[stock] = stock_dict_list"
      ],
      "execution_count": 0,
      "outputs": []
    },
    {
      "cell_type": "markdown",
      "metadata": {
        "id": "POuGe9x-zAe1",
        "colab_type": "text"
      },
      "source": [
        "#### Scaling Input"
      ]
    },
    {
      "cell_type": "code",
      "metadata": {
        "id": "uyHXUTqzzHAh",
        "colab_type": "code",
        "colab": {}
      },
      "source": [
        "for stock in stocks:\n",
        "  df = pd.DataFrame(data[stock])\n",
        "  max_value = df[['High', 'Low', 'Open', 'Close', 'Adj Close']].max()\n",
        "  df[['High', 'Low', 'Open', 'Close', 'Adj Close']] = df[['High', 'Low', 'Open', 'Close', 'Adj Close']]/max_value\n",
        "  df['Volume'] = df['Volume']/ df['Volume'].max()\n",
        "  df= df.dropna()\n",
        "  data[stock] = df.to_dict('records')"
      ],
      "execution_count": 0,
      "outputs": []
    },
    {
      "cell_type": "markdown",
      "metadata": {
        "id": "r4aUFUkKuTn5",
        "colab_type": "text"
      },
      "source": [
        "#### Check scaling"
      ]
    },
    {
      "cell_type": "code",
      "metadata": {
        "id": "2mfH1UeIuSn4",
        "colab_type": "code",
        "colab": {
          "base_uri": "https://localhost:8080/",
          "height": 122
        },
        "outputId": "12ca7964-0b03-4bd2-9628-19b8417e498b"
      },
      "source": [
        "data_in_list = []\n",
        "for stock in stocks:\n",
        "    stock_dict_list = data[stock]\n",
        "    for index, dict_ in enumerate(stock_dict_list):\n",
        "        dict_['Ticker'] = stock\n",
        "        data_in_list.append(dict_)\n",
        "df = pd.DataFrame(data_in_list) \n",
        "df.describe()\n",
        "print(df[['Low_1', 'Low_3']].quantile(.05))\n",
        "df[['Max_1', 'Max_3']].quantile(.95) "
      ],
      "execution_count": 8,
      "outputs": [
        {
          "output_type": "stream",
          "text": [
            "Low_1   -0.125000\n",
            "Low_3   -0.178809\n",
            "Name: 0.05, dtype: float64\n"
          ],
          "name": "stdout"
        },
        {
          "output_type": "execute_result",
          "data": {
            "text/plain": [
              "Max_1    0.143266\n",
              "Max_3    0.222629\n",
              "Name: 0.95, dtype: float64"
            ]
          },
          "metadata": {
            "tags": []
          },
          "execution_count": 8
        }
      ]
    },
    {
      "cell_type": "markdown",
      "metadata": {
        "id": "e2sOhDW6x5Cs",
        "colab_type": "text"
      },
      "source": [
        "#### Scaling High, Low, Open, Close and droping Adj Close"
      ]
    },
    {
      "cell_type": "markdown",
      "metadata": {
        "id": "BBaOGnikywK7",
        "colab_type": "text"
      },
      "source": [
        ""
      ]
    },
    {
      "cell_type": "code",
      "metadata": {
        "id": "DLYnbjYeyu0y",
        "colab_type": "code",
        "colab": {}
      },
      "source": [
        "processed_data = {}\n",
        "\n",
        "for stock in stocks:\n",
        "  x = []\n",
        "  target = []\n",
        "  dict_ = {}\n",
        "  for i in data[stock]:\n",
        "    row =np.array([i['High'], i['Low'], i['Open'], i['Close'], i['Adj Close'], i['Volume']])\n",
        "    x.append(row)\n",
        "    row = np.array(i['Low_1'])\n",
        "    target.append(row)\n",
        "  dict_['Data'] = x\n",
        "  dict_['Target'] = target\n",
        "  processed_data[stock] = dict_"
      ],
      "execution_count": 0,
      "outputs": []
    },
    {
      "cell_type": "code",
      "metadata": {
        "id": "mxB68JDiJZ7M",
        "colab_type": "code",
        "colab": {}
      },
      "source": [
        "for stock in stocks:\n",
        "  length_ = len(processed_data[stock]['Data'])\n",
        "  length_test = len(processed_data[stock]['Data'])//8\n",
        "  test_start = np.random.choice(list(range(length_*3//4,length_-length_test+1)))\n",
        "  test_end = length_test+ test_start\n",
        "  processed_data[stock]['data_1'] = np.array(processed_data[stock]['Data'][:test_start])\n",
        "  processed_data[stock]['data_1'] =   processed_data[stock]['data_1'].reshape(len(processed_data[stock]['data_1']), 1, 6)\n",
        "  processed_data[stock]['data_test'] = np.array(processed_data[stock]['Data'][test_start:-10])\n",
        "  processed_data[stock]['data_test'] = processed_data[stock]['data_test'].reshape(len(processed_data[stock]['data_test']),1,6)\n",
        "  transfer_list = np.array(processed_data[stock]['Target'][:test_start])\n",
        "  processed_data[stock]['target_1'] =transfer_list.reshape(len(transfer_list), 1)\n",
        "  transfer_list = np.array(processed_data[stock]['Target'][test_start:-10])\n",
        "  processed_data[stock]['target_test'] = transfer_list.reshape(len(transfer_list),1)"
      ],
      "execution_count": 0,
      "outputs": []
    },
    {
      "cell_type": "code",
      "metadata": {
        "id": "gxJmCXmt6DjZ",
        "colab_type": "code",
        "colab": {
          "base_uri": "https://localhost:8080/",
          "height": 266
        },
        "outputId": "648f5f73-3e73-4cdf-8af4-b2be776e59e7"
      },
      "source": [
        "model = models.Sequential()\n",
        "model.add(layers.GRU(50, return_sequences=True, input_shape=(1,6)))\n",
        "model.add(layers.Dropout(0.2))\n",
        "model.add(layers.GRU(100, return_sequences=False))\n",
        "model.add(layers.Dropout(0.2))\n",
        "model.add(layers.Dense(100, activation = \"relu\"))\n",
        "model.add(layers.Dense(100, activation = \"relu\"))\n",
        "model.add(layers.Dense(1, activation = \"linear\"))\n",
        "model.compile(loss='mse', optimizer='adam')\n"
      ],
      "execution_count": 11,
      "outputs": [
        {
          "output_type": "stream",
          "text": [
            "WARNING:tensorflow:From /usr/local/lib/python3.6/dist-packages/keras/backend/tensorflow_backend.py:66: The name tf.get_default_graph is deprecated. Please use tf.compat.v1.get_default_graph instead.\n",
            "\n",
            "WARNING:tensorflow:From /usr/local/lib/python3.6/dist-packages/keras/backend/tensorflow_backend.py:541: The name tf.placeholder is deprecated. Please use tf.compat.v1.placeholder instead.\n",
            "\n",
            "WARNING:tensorflow:From /usr/local/lib/python3.6/dist-packages/keras/backend/tensorflow_backend.py:4432: The name tf.random_uniform is deprecated. Please use tf.random.uniform instead.\n",
            "\n",
            "WARNING:tensorflow:From /usr/local/lib/python3.6/dist-packages/keras/backend/tensorflow_backend.py:148: The name tf.placeholder_with_default is deprecated. Please use tf.compat.v1.placeholder_with_default instead.\n",
            "\n",
            "WARNING:tensorflow:From /usr/local/lib/python3.6/dist-packages/keras/backend/tensorflow_backend.py:3733: calling dropout (from tensorflow.python.ops.nn_ops) with keep_prob is deprecated and will be removed in a future version.\n",
            "Instructions for updating:\n",
            "Please use `rate` instead of `keep_prob`. Rate should be set to `rate = 1 - keep_prob`.\n",
            "WARNING:tensorflow:From /usr/local/lib/python3.6/dist-packages/keras/optimizers.py:793: The name tf.train.Optimizer is deprecated. Please use tf.compat.v1.train.Optimizer instead.\n",
            "\n"
          ],
          "name": "stdout"
        }
      ]
    },
    {
      "cell_type": "code",
      "metadata": {
        "id": "VnpUFR7l6RHT",
        "colab_type": "code",
        "colab": {
          "base_uri": "https://localhost:8080/",
          "height": 371
        },
        "outputId": "9813218e-d227-4290-f418-f74c15417a56"
      },
      "source": [
        "for stock in stocks:\n",
        "\n",
        "  (feature_train, label_train, feature_test, label_test) = (processed_data[stock]['data_1'],processed_data[stock]['target_1'], \n",
        "                                                            processed_data[stock]['data_test'], processed_data[stock]['target_test']) \n",
        "  model.fit(feature_train, label_train, batch_size=100, epochs=20, validation_data = (feature_test, label_test), verbose=1)\n",
        "\n"
      ],
      "execution_count": 12,
      "outputs": [
        {
          "output_type": "stream",
          "text": [
            "WARNING:tensorflow:From /usr/local/lib/python3.6/dist-packages/tensorflow_core/python/ops/math_grad.py:1424: where (from tensorflow.python.ops.array_ops) is deprecated and will be removed in a future version.\n",
            "Instructions for updating:\n",
            "Use tf.where in 2.0, which has the same broadcast rule as np.where\n",
            "WARNING:tensorflow:From /usr/local/lib/python3.6/dist-packages/keras/backend/tensorflow_backend.py:1033: The name tf.assign_add is deprecated. Please use tf.compat.v1.assign_add instead.\n",
            "\n",
            "WARNING:tensorflow:From /usr/local/lib/python3.6/dist-packages/keras/backend/tensorflow_backend.py:1020: The name tf.assign is deprecated. Please use tf.compat.v1.assign instead.\n",
            "\n",
            "WARNING:tensorflow:From /usr/local/lib/python3.6/dist-packages/keras/backend/tensorflow_backend.py:3005: The name tf.Session is deprecated. Please use tf.compat.v1.Session instead.\n",
            "\n",
            "WARNING:tensorflow:From /usr/local/lib/python3.6/dist-packages/keras/backend/tensorflow_backend.py:190: The name tf.get_default_session is deprecated. Please use tf.compat.v1.get_default_session instead.\n",
            "\n",
            "WARNING:tensorflow:From /usr/local/lib/python3.6/dist-packages/keras/backend/tensorflow_backend.py:197: The name tf.ConfigProto is deprecated. Please use tf.compat.v1.ConfigProto instead.\n",
            "\n",
            "WARNING:tensorflow:From /usr/local/lib/python3.6/dist-packages/keras/backend/tensorflow_backend.py:207: The name tf.global_variables is deprecated. Please use tf.compat.v1.global_variables instead.\n",
            "\n",
            "WARNING:tensorflow:From /usr/local/lib/python3.6/dist-packages/keras/backend/tensorflow_backend.py:216: The name tf.is_variable_initialized is deprecated. Please use tf.compat.v1.is_variable_initialized instead.\n",
            "\n",
            "WARNING:tensorflow:From /usr/local/lib/python3.6/dist-packages/keras/backend/tensorflow_backend.py:223: The name tf.variables_initializer is deprecated. Please use tf.compat.v1.variables_initializer instead.\n",
            "\n"
          ],
          "name": "stdout"
        }
      ]
    },
    {
      "cell_type": "code",
      "metadata": {
        "id": "5dbEcBHzbi37",
        "colab_type": "code",
        "colab": {
          "base_uri": "https://localhost:8080/",
          "height": 320
        },
        "outputId": "0e21ec7d-8519-4c2c-f714-2e9fa6068f3f"
      },
      "source": [
        "dict_ = model.history.history\n",
        "plt.figure(figsize=(8,5))\n",
        "plt.plot(dict_['loss'], label = 'Loss')\n",
        "plt.plot(dict_['val_loss'], label= 'Validation Loss')\n",
        "plt.legend(bbox_to_anchor=(1.05, 1))\n",
        "plt.show()"
      ],
      "execution_count": 13,
      "outputs": [
        {
          "output_type": "display_data",
          "data": {
            "image/png": "[encoded data removed]",
            "text/plain": [
              "<Figure size 576x360 with 1 Axes>"
            ]
          },
          "metadata": {
            "tags": []
          }
        }
      ]
    },
    {
      "cell_type": "code",
      "metadata": {
        "id": "xR5eZ1l3fq2f",
        "colab_type": "code",
        "colab": {
          "base_uri": "https://localhost:8080/",
          "height": 34
        },
        "outputId": "b23f0781-8a2f-41f7-d232-f60beb163eec"
      },
      "source": [
        "\n",
        "(feature_train, label_train, feature_test, label_test) = (processed_data['SGMO']['data_1'],processed_data['SGMO']['target_1'], \n",
        "                                                            processed_data['SGMO']['data_test'], processed_data['SGMO']['target_test']) \n",
        "\n",
        "predict_train = model.predict(feature_train)\n",
        "predict_test = model.predict(feature_test)\n",
        "r2_score(predict_test, label_test), r2_score(predict_train, label_train)\n"
      ],
      "execution_count": 17,
      "outputs": [
        {
          "output_type": "execute_result",
          "data": {
            "text/plain": [
              "(-1.476862434387852, -1.3005823762270747)"
            ]
          },
          "metadata": {
            "tags": []
          },
          "execution_count": 17
        }
      ]
    },
    {
      "cell_type": "code",
      "metadata": {
        "id": "6v9QnNTFgL8Q",
        "colab_type": "code",
        "colab": {
          "base_uri": "https://localhost:8080/",
          "height": 320
        },
        "outputId": "a2a526c4-8e7d-4613-a7c0-4b649cd3df69"
      },
      "source": [
        "plt.figure(figsize=(8,5))\n",
        "plt.plot(predict_train- label_train, label = 'Residual')\n",
        "plt.legend(bbox_to_anchor=(1.05, 1))\n",
        "plt.show()"
      ],
      "execution_count": 18,
      "outputs": [
        {
          "output_type": "display_data",
          "data": {
            "image/png": "[encoded data removed]",
            "text/plain": [
              "<Figure size 576x360 with 1 Axes>"
            ]
          },
          "metadata": {
            "tags": []
          }
        }
      ]
    },
    {
      "cell_type": "code",
      "metadata": {
        "id": "5JGOyTaSmv8l",
        "colab_type": "code",
        "colab": {
          "base_uri": "https://localhost:8080/",
          "height": 320
        },
        "outputId": "5250633e-a2ce-44d1-ffbb-1c837247e40a"
      },
      "source": [
        "plt.figure(figsize=(13,5))\n",
        "sns.distplot(predict_train- label_train, label = 'Residual')\n",
        "plt.legend(bbox_to_anchor=(1.05, 1))\n",
        "plt.show()"
      ],
      "execution_count": 20,
      "outputs": [
        {
          "output_type": "display_data",
          "data": {
            "image/png": "[encoded data removed]",
            "text/plain": [
              "<Figure size 936x360 with 1 Axes>"
            ]
          },
          "metadata": {
            "tags": []
          }
        }
      ]
    },
    {
      "cell_type": "code",
      "metadata": {
        "id": "1yZQKWF5hESE",
        "colab_type": "code",
        "colab": {}
      },
      "source": [
        ""
      ],
      "execution_count": 0,
      "outputs": []
    }
  ]
}