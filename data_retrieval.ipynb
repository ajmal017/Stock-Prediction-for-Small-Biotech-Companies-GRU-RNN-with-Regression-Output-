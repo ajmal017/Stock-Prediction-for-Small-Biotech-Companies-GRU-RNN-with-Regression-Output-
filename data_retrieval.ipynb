{
 "cells": [
  {
   "cell_type": "code",
   "execution_count": 1,
   "metadata": {
    "scrolled": true
   },
   "outputs": [
    {
     "name": "stderr",
     "output_type": "stream",
     "text": [
      "Using TensorFlow backend.\n"
     ]
    }
   ],
   "source": [
    "import pandas as pd\n",
    "import datetime\n",
    "import json\n",
    "import pandas_datareader as pdr\n",
    "import numpy as np\n",
    "import matplotlib.pyplot as plt\n",
    "from keras import models\n",
    "from keras import layers\n",
    "from keras import optimizers\n",
    "from matplotlib.image import imread\n",
    "from keras.preprocessing import image\n",
    "from helper import data_to_tensor"
   ]
  },
  {
   "cell_type": "markdown",
   "metadata": {},
   "source": [
    "### Pulling stock list from Virtus LifeSci Biotech ETF"
   ]
  },
  {
   "cell_type": "code",
   "execution_count": 2,
   "metadata": {},
   "outputs": [],
   "source": [
    "stocks = pd.read_excel('positions_bbc.xls', index_col=0, skiprows=1).Ticker.values"
   ]
  },
  {
   "cell_type": "code",
   "execution_count": 4,
   "metadata": {},
   "outputs": [
    {
     "data": {
      "text/html": [
       "<div>\n",
       "<style scoped>\n",
       "    .dataframe tbody tr th:only-of-type {\n",
       "        vertical-align: middle;\n",
       "    }\n",
       "\n",
       "    .dataframe tbody tr th {\n",
       "        vertical-align: top;\n",
       "    }\n",
       "\n",
       "    .dataframe thead th {\n",
       "        text-align: right;\n",
       "    }\n",
       "</style>\n",
       "<table border=\"1\" class=\"dataframe\">\n",
       "  <thead>\n",
       "    <tr style=\"text-align: right;\">\n",
       "      <th></th>\n",
       "      <th>High</th>\n",
       "      <th>Low</th>\n",
       "      <th>Open</th>\n",
       "      <th>Close</th>\n",
       "      <th>Volume</th>\n",
       "      <th>Adj Close</th>\n",
       "    </tr>\n",
       "    <tr>\n",
       "      <th>Date</th>\n",
       "      <th></th>\n",
       "      <th></th>\n",
       "      <th></th>\n",
       "      <th></th>\n",
       "      <th></th>\n",
       "      <th></th>\n",
       "    </tr>\n",
       "  </thead>\n",
       "  <tbody>\n",
       "    <tr>\n",
       "      <th>2014-01-07</th>\n",
       "      <td>17.00</td>\n",
       "      <td>15.000000</td>\n",
       "      <td>16.0</td>\n",
       "      <td>15.000000</td>\n",
       "      <td>59800</td>\n",
       "      <td>15.000000</td>\n",
       "    </tr>\n",
       "    <tr>\n",
       "      <th>2014-01-08</th>\n",
       "      <td>18.00</td>\n",
       "      <td>16.000000</td>\n",
       "      <td>17.5</td>\n",
       "      <td>17.000000</td>\n",
       "      <td>51100</td>\n",
       "      <td>17.000000</td>\n",
       "    </tr>\n",
       "    <tr>\n",
       "      <th>2014-01-09</th>\n",
       "      <td>17.75</td>\n",
       "      <td>17.100000</td>\n",
       "      <td>17.5</td>\n",
       "      <td>17.500000</td>\n",
       "      <td>159900</td>\n",
       "      <td>17.500000</td>\n",
       "    </tr>\n",
       "    <tr>\n",
       "      <th>2014-01-10</th>\n",
       "      <td>20.00</td>\n",
       "      <td>17.500000</td>\n",
       "      <td>17.5</td>\n",
       "      <td>18.000000</td>\n",
       "      <td>157100</td>\n",
       "      <td>18.000000</td>\n",
       "    </tr>\n",
       "    <tr>\n",
       "      <th>2014-01-13</th>\n",
       "      <td>18.50</td>\n",
       "      <td>18.200001</td>\n",
       "      <td>18.4</td>\n",
       "      <td>18.200001</td>\n",
       "      <td>5000</td>\n",
       "      <td>18.200001</td>\n",
       "    </tr>\n",
       "  </tbody>\n",
       "</table>\n",
       "</div>"
      ],
      "text/plain": [
       "             High        Low  Open      Close  Volume  Adj Close\n",
       "Date                                                            \n",
       "2014-01-07  17.00  15.000000  16.0  15.000000   59800  15.000000\n",
       "2014-01-08  18.00  16.000000  17.5  17.000000   51100  17.000000\n",
       "2014-01-09  17.75  17.100000  17.5  17.500000  159900  17.500000\n",
       "2014-01-10  20.00  17.500000  17.5  18.000000  157100  18.000000\n",
       "2014-01-13  18.50  18.200001  18.4  18.200001    5000  18.200001"
      ]
     },
     "execution_count": 4,
     "metadata": {},
     "output_type": "execute_result"
    }
   ],
   "source": [
    "pdr.get_data_yahoo(stocks[0], start='2000-01-01').head()"
   ]
  },
  {
   "cell_type": "markdown",
   "metadata": {},
   "source": [
    "#### Creating dictionary and JSON"
   ]
  },
  {
   "cell_type": "code",
   "execution_count": 3,
   "metadata": {},
   "outputs": [],
   "source": [
    "\n",
    "dataframe_dict= {}\n",
    "for stock in stocks: \n",
    "\n",
    "    df = pdr.get_data_yahoo(stock, start='2000-01-01')\n",
    "    # Change inde to a date  string\n",
    "    df['Date'] = df.index.strftime(\"%Y-%m-%d %H:%M:%S\")\n",
    "    \n",
    "    dataframe_dict[stock] = df.to_dict('records')\n"
   ]
  },
  {
   "cell_type": "code",
   "execution_count": 4,
   "metadata": {},
   "outputs": [],
   "source": [
    "\n",
    "with open('stock_info.json', 'w') as f:\n",
    "    json.dump(dataframe_dict, f)\n"
   ]
  },
  {
   "cell_type": "markdown",
   "metadata": {},
   "source": [
    "### Creating a dictionary and JSON for Benchmark index and ETF"
   ]
  },
  {
   "cell_type": "markdown",
   "metadata": {
    "scrolled": true
   },
   "source": [
    "```python\n",
    "benchmark_dict = {}\n",
    "# SP500(broader market)\n",
    "df = pdr.get_data_yahoo('SPY', start='2000-01-01')\n",
    "df.index = df.index.strftime(\"%Y-%m-%d %H:%M:%S\")\n",
    "benchmark_dict['SPY'] = df.to_dict('index')\n",
    "\n",
    "# Vanguard Health Care Index Fund (Healthcare Industry)\n",
    "df = pdr.get_data_yahoo('VHT', start='2009-01-01')\n",
    "df.index = df.index.strftime(\"%Y-%m-%d %H:%M:%S\")\n",
    "benchmark_dict['VHT'] = df.to_dict('index')\n",
    "\n",
    "#SPDR S&P Pharmaceuticals ETF (Pharmaceutical Drug Industry)\n",
    "df = pdr.get_data_yahoo('XPH', start='2009-01-01')\n",
    "df.index = df.index.strftime(\"%Y-%m-%d %H:%M:%S\")\n",
    "benchmark_dict['XPH'] = df.to_dict('index')\n",
    "```"
   ]
  },
  {
   "cell_type": "markdown",
   "metadata": {},
   "source": [
    "``` python\n",
    "with open('benchmark.json', 'w') as fp:\n",
    "    json.dump(benchmark_dict, fp)\n",
    "```"
   ]
  },
  {
   "cell_type": "code",
   "execution_count": null,
   "metadata": {},
   "outputs": [],
   "source": []
  },
  {
   "cell_type": "markdown",
   "metadata": {},
   "source": [
    "### Creating the Target"
   ]
  },
  {
   "cell_type": "markdown",
   "metadata": {
    "scrolled": true
   },
   "source": [
    "data = []\n",
    "target = []\n",
    "period = 120\n",
    "for stock in stocks:\n",
    "    print(stock)\n",
    "    df = pdr.get_data_yahoo(stock, start='2000-01-01')\n",
    "    # Creating an array for he past  tradings from initial data.\n",
    "    #df['data'] = [data_to_tensor(df.iloc[i-period:i]) for i in range(0,len(df))]\n",
    "   \n",
    "    df['Ticker'] = stock\n",
    "\n",
    "    # Feature Engineering for the maximum and minimums\n",
    "    df['Next_Day'] = [df['Close'].iloc[:i+1][-1]/ df['Close'].iloc[i]- 1 for i in range(0,len(df))]\n",
    "    df['High_Max_3_Days'] = [df['High'][i: i+3].max()/ df['Close'][i]- 1 for i in range(0,len(df))]\n",
    "    df['Low_Min_3_Days']= [df['Low'][i: i+3].min()/ df['Close'][i]-1 for i in range(0,len(df))]\n",
    "    df['High_Max_10_Days'] = [df['High'][i: i+10].max()/ df['Close'][i]- 1 for i in range(0,len(df))]\n",
    "    df['Low_Min_10_Days']= [df['Low'][i: i+10].min()/ df['Close'][i]-1 for i in range(0,len(df))]\n",
    "    df['High_Max_30_Days'] = [df['High'][i: i+30].max()/ df['Close'][i]-1 for i in range(0,len(df))]\n",
    "    df['Low_Min_30_Days']= [df['Low'][i: i+30].min()/ df['Close'][i]-1 for i in range(0,len(df))]\n",
    "    for i in df.iloc[:-31].to_dict('records'):\n",
    "        data.append(i)"
   ]
  },
  {
   "cell_type": "markdown",
   "metadata": {},
   "source": [
    "#### Dividing all volume data by largest volume value"
   ]
  },
  {
   "cell_type": "code",
   "execution_count": 18,
   "metadata": {},
   "outputs": [],
   "source": [
    "df['Volume'] = df['Volume']/ df['Volume'].max()"
   ]
  },
  {
   "cell_type": "code",
   "execution_count": 19,
   "metadata": {},
   "outputs": [
    {
     "data": {
      "text/plain": [
       "count    1057.000000\n",
       "mean        0.019978\n",
       "std         0.048438\n",
       "min         0.000119\n",
       "25%         0.004902\n",
       "50%         0.010495\n",
       "75%         0.020447\n",
       "max         1.000000\n",
       "Name: Volume, dtype: float64"
      ]
     },
     "execution_count": 19,
     "metadata": {},
     "output_type": "execute_result"
    }
   ],
   "source": [
    "df['Volume'].describe()"
   ]
  },
  {
   "cell_type": "markdown",
   "metadata": {},
   "source": [
    "#### Scaling High, Low, Open, Close and droping Adj Close"
   ]
  },
  {
   "cell_type": "code",
   "execution_count": 10,
   "metadata": {},
   "outputs": [
    {
     "name": "stderr",
     "output_type": "stream",
     "text": [
      "C:\\Users\\FlatIron_User\\.conda\\envs\\learn-env12_12_19\\lib\\site-packages\\pandas\\core\\frame.py:3140: SettingWithCopyWarning: \n",
      "A value is trying to be set on a copy of a slice from a DataFrame.\n",
      "Try using .loc[row_indexer,col_indexer] = value instead\n",
      "\n",
      "See the caveats in the documentation: http://pandas.pydata.org/pandas-docs/stable/indexing.html#indexing-view-versus-copy\n",
      "  self[k1] = value[k2]\n"
     ]
    }
   ],
   "source": [
    "columns = ['High', 'Low', 'Open', 'Close']\n",
    "for stock in stocks:\n",
    "    max_value = np.array(df.loc[df.Ticker == stock][columns]).max()\n",
    "    df.loc[df.Ticker == stock][columns] = df.loc[df.Ticker == stock][columns]/ max_value\n",
    "    "
   ]
  },
  {
   "cell_type": "code",
   "execution_count": 11,
   "metadata": {},
   "outputs": [
    {
     "data": {
      "text/plain": [
       "3000.0"
      ]
     },
     "execution_count": 11,
     "metadata": {},
     "output_type": "execute_result"
    }
   ],
   "source": [
    "df.High.max()"
   ]
  },
  {
   "cell_type": "code",
   "execution_count": 9,
   "metadata": {},
   "outputs": [
    {
     "data": {
      "text/plain": [
       "56.0"
      ]
     },
     "execution_count": 9,
     "metadata": {},
     "output_type": "execute_result"
    }
   ],
   "source": [
    "np.array(max_value).max()"
   ]
  },
  {
   "cell_type": "code",
   "execution_count": 33,
   "metadata": {},
   "outputs": [],
   "source": [
    "with open('stock_info.json', 'r') as f:\n",
    "    new = json.load(f)"
   ]
  },
  {
   "cell_type": "markdown",
   "metadata": {},
   "source": [
    "#### Creating a image to be processed"
   ]
  },
  {
   "cell_type": "code",
   "execution_count": 30,
   "metadata": {},
   "outputs": [],
   "source": [
    "for stock in stocks:\n",
    "    stock_dict = new[stock]\n",
    "    date_list = [date for date in stock_dict]\n",
    "    for date in date_list:\n",
    "        \n",
    "        high =  stock_dict[date]['High']"
   ]
  },
  {
   "cell_type": "code",
   "execution_count": 34,
   "metadata": {},
   "outputs": [],
   "source": [
    "a = new[stocks[-50]]"
   ]
  },
  {
   "cell_type": "code",
   "execution_count": 37,
   "metadata": {},
   "outputs": [
    {
     "data": {
      "text/plain": [
       "{'High': 15.970000267028809,\n",
       " 'Low': 15.970000267028809,\n",
       " 'Open': 15.970000267028809,\n",
       " 'Close': 15.970000267028809,\n",
       " 'Volume': 350.0,\n",
       " 'Adj Close': 15.970000267028809}"
      ]
     },
     "execution_count": 37,
     "metadata": {},
     "output_type": "execute_result"
    }
   ],
   "source": [
    "a = new[stocks[-50]]\n",
    "a[0]"
   ]
  },
  {
   "cell_type": "code",
   "execution_count": 19,
   "metadata": {},
   "outputs": [
    {
     "data": {
      "text/plain": [
       "(1057,)"
      ]
     },
     "execution_count": 19,
     "metadata": {},
     "output_type": "execute_result"
    }
   ],
   "source": [
    "np.shape(high)"
   ]
  },
  {
   "cell_type": "code",
   "execution_count": 25,
   "metadata": {},
   "outputs": [
    {
     "data": {
      "text/plain": [
       "['High', 'Low', 'Open', 'Close', 'Volume', 'Adj Close']"
      ]
     },
     "execution_count": 25,
     "metadata": {},
     "output_type": "execute_result"
    }
   ],
   "source": [
    "high"
   ]
  },
  {
   "cell_type": "code",
   "execution_count": null,
   "metadata": {},
   "outputs": [],
   "source": []
  }
 ],
 "metadata": {
  "kernelspec": {
   "display_name": "Python 3",
   "language": "python",
   "name": "python3"
  },
  "language_info": {
   "codemirror_mode": {
    "name": "ipython",
    "version": 3
   },
   "file_extension": ".py",
   "mimetype": "text/x-python",
   "name": "python",
   "nbconvert_exporter": "python",
   "pygments_lexer": "ipython3",
   "version": "3.6.6"
  }
 },
 "nbformat": 4,
 "nbformat_minor": 2
}
