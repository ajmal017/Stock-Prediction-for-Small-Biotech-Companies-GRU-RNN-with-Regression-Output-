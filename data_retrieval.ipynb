{
  "nbformat": 4,
  "nbformat_minor": 0,
  "metadata": {
    "kernelspec": {
      "name": "python3",
      "display_name": "Python 3"
    },
    "language_info": {
      "codemirror_mode": {
        "name": "ipython",
        "version": 3
      },
      "file_extension": ".py",
      "mimetype": "text/x-python",
      "name": "python",
      "nbconvert_exporter": "python",
      "pygments_lexer": "ipython3",
      "version": "3.6.6"
    },
    "colab": {
      "name": "data_retrieval.ipynb",
      "provenance": []
    },
    "accelerator": "GPU"
  },
  "cells": [
    {
      "cell_type": "code",
      "metadata": {
        "scrolled": true,
        "id": "ECYu4kAkx5Bc",
        "colab_type": "code",
        "colab": {
          "base_uri": "https://localhost:8080/",
          "height": 81
        },
        "outputId": "f9cac3ca-35ca-4ada-8dd2-cd236897b954"
      },
      "source": [
        "import pandas as pd\n",
        "import datetime\n",
        "import json\n",
        "import pandas_datareader as pdr\n",
        "import numpy as np\n",
        "import matplotlib.pyplot as plt\n",
        "from keras import models\n",
        "from keras import layers\n",
        "from keras import optimizers\n",
        "from matplotlib.image import imread\n",
        "from keras.preprocessing import image\n",
        "from sklearn.metrics import r2_score\n",
        "import seaborn as sns"
      ],
      "execution_count": 1,
      "outputs": [
        {
          "output_type": "stream",
          "text": [
            "Using TensorFlow backend.\n"
          ],
          "name": "stderr"
        },
        {
          "output_type": "display_data",
          "data": {
            "text/html": [
              "<p style=\"color: red;\">\n",
              "The default version of TensorFlow in Colab will soon switch to TensorFlow 2.x.<br>\n",
              "We recommend you <a href=\"https://www.tensorflow.org/guide/migrate\" target=\"_blank\">upgrade</a> now \n",
              "or ensure your notebook will continue to use TensorFlow 1.x via the <code>%tensorflow_version 1.x</code> magic:\n",
              "<a href=\"https://colab.research.google.com/notebooks/tensorflow_version.ipynb\" target=\"_blank\">more info</a>.</p>\n"
            ],
            "text/plain": [
              "<IPython.core.display.HTML object>"
            ]
          },
          "metadata": {
            "tags": []
          }
        }
      ]
    },
    {
      "cell_type": "markdown",
      "metadata": {
        "id": "DlJQtfuxx5Bl",
        "colab_type": "text"
      },
      "source": [
        "### Pulling stock list from Virtus LifeSci Biotech ETF"
      ]
    },
    {
      "cell_type": "code",
      "metadata": {
        "id": "Hrrzwx3cx5Bn",
        "colab_type": "code",
        "colab": {}
      },
      "source": [
        "stocks = pd.read_excel('positions_bbc.xls', index_col=0, skiprows=1).Ticker.values"
      ],
      "execution_count": 0,
      "outputs": []
    },
    {
      "cell_type": "code",
      "metadata": {
        "id": "IljTaWhix5Br",
        "colab_type": "code",
        "colab": {
          "base_uri": "https://localhost:8080/",
          "height": 225
        },
        "outputId": "142f3095-fb2a-43a6-c822-2821c1dd3eb3"
      },
      "source": [
        "pdr.get_data_yahoo(stocks[0], start='2000-01-01').head()"
      ],
      "execution_count": 3,
      "outputs": [
        {
          "output_type": "execute_result",
          "data": {
            "text/html": [
              "<div>\n",
              "<style scoped>\n",
              "    .dataframe tbody tr th:only-of-type {\n",
              "        vertical-align: middle;\n",
              "    }\n",
              "\n",
              "    .dataframe tbody tr th {\n",
              "        vertical-align: top;\n",
              "    }\n",
              "\n",
              "    .dataframe thead th {\n",
              "        text-align: right;\n",
              "    }\n",
              "</style>\n",
              "<table border=\"1\" class=\"dataframe\">\n",
              "  <thead>\n",
              "    <tr style=\"text-align: right;\">\n",
              "      <th></th>\n",
              "      <th>High</th>\n",
              "      <th>Low</th>\n",
              "      <th>Open</th>\n",
              "      <th>Close</th>\n",
              "      <th>Volume</th>\n",
              "      <th>Adj Close</th>\n",
              "    </tr>\n",
              "    <tr>\n",
              "      <th>Date</th>\n",
              "      <th></th>\n",
              "      <th></th>\n",
              "      <th></th>\n",
              "      <th></th>\n",
              "      <th></th>\n",
              "      <th></th>\n",
              "    </tr>\n",
              "  </thead>\n",
              "  <tbody>\n",
              "    <tr>\n",
              "      <th>2014-01-07</th>\n",
              "      <td>17.00</td>\n",
              "      <td>15.000000</td>\n",
              "      <td>16.0</td>\n",
              "      <td>15.000000</td>\n",
              "      <td>59800</td>\n",
              "      <td>15.000000</td>\n",
              "    </tr>\n",
              "    <tr>\n",
              "      <th>2014-01-08</th>\n",
              "      <td>18.00</td>\n",
              "      <td>16.000000</td>\n",
              "      <td>17.5</td>\n",
              "      <td>17.000000</td>\n",
              "      <td>51100</td>\n",
              "      <td>17.000000</td>\n",
              "    </tr>\n",
              "    <tr>\n",
              "      <th>2014-01-09</th>\n",
              "      <td>17.75</td>\n",
              "      <td>17.100000</td>\n",
              "      <td>17.5</td>\n",
              "      <td>17.500000</td>\n",
              "      <td>159900</td>\n",
              "      <td>17.500000</td>\n",
              "    </tr>\n",
              "    <tr>\n",
              "      <th>2014-01-10</th>\n",
              "      <td>20.00</td>\n",
              "      <td>17.500000</td>\n",
              "      <td>17.5</td>\n",
              "      <td>18.000000</td>\n",
              "      <td>157100</td>\n",
              "      <td>18.000000</td>\n",
              "    </tr>\n",
              "    <tr>\n",
              "      <th>2014-01-13</th>\n",
              "      <td>18.50</td>\n",
              "      <td>18.200001</td>\n",
              "      <td>18.4</td>\n",
              "      <td>18.200001</td>\n",
              "      <td>5000</td>\n",
              "      <td>18.200001</td>\n",
              "    </tr>\n",
              "  </tbody>\n",
              "</table>\n",
              "</div>"
            ],
            "text/plain": [
              "             High        Low  Open      Close  Volume  Adj Close\n",
              "Date                                                            \n",
              "2014-01-07  17.00  15.000000  16.0  15.000000   59800  15.000000\n",
              "2014-01-08  18.00  16.000000  17.5  17.000000   51100  17.000000\n",
              "2014-01-09  17.75  17.100000  17.5  17.500000  159900  17.500000\n",
              "2014-01-10  20.00  17.500000  17.5  18.000000  157100  18.000000\n",
              "2014-01-13  18.50  18.200001  18.4  18.200001    5000  18.200001"
            ]
          },
          "metadata": {
            "tags": []
          },
          "execution_count": 3
        }
      ]
    },
    {
      "cell_type": "markdown",
      "metadata": {
        "id": "J65CzkyOx5Bv",
        "colab_type": "text"
      },
      "source": [
        "#### Creating dictionary and JSON"
      ]
    },
    {
      "cell_type": "code",
      "metadata": {
        "id": "fCLXekNux5Bw",
        "colab_type": "code",
        "colab": {}
      },
      "source": [
        "\n",
        "dataframe_dict= {}\n",
        "for stock in stocks: \n",
        "\n",
        "    df = pdr.get_data_yahoo(stock, start='2000-01-01')\n",
        "    # Change inde to a date  string\n",
        "    df['Date'] = df.index.strftime(\"%Y-%m-%d %H:%M:%S\")\n",
        "    \n",
        "    dataframe_dict[stock] = df.to_dict('records')\n"
      ],
      "execution_count": 0,
      "outputs": []
    },
    {
      "cell_type": "markdown",
      "metadata": {
        "id": "dYt5NOy50CpF",
        "colab_type": "text"
      },
      "source": [
        ""
      ]
    },
    {
      "cell_type": "code",
      "metadata": {
        "colab_type": "code",
        "id": "-PeF51ii0DLQ",
        "colab": {}
      },
      "source": [
        "data = dataframe_dict"
      ],
      "execution_count": 0,
      "outputs": []
    },
    {
      "cell_type": "markdown",
      "metadata": {
        "id": "r6LX4GlFx5B9",
        "colab_type": "text"
      },
      "source": [
        "### Creating a dictionary and JSON for Benchmark index and ETF"
      ]
    },
    {
      "cell_type": "markdown",
      "metadata": {
        "scrolled": true,
        "id": "rxEHfYqpx5CD",
        "colab_type": "text"
      },
      "source": [
        "```python\n",
        "benchmark_dict = {}\n",
        "# SP500(broader market)\n",
        "df = pdr.get_data_yahoo('SPY', start='2000-01-01')\n",
        "df.index = df.index.strftime(\"%Y-%m-%d %H:%M:%S\")\n",
        "benchmark_dict['SPY'] = df.to_dict('index')\n",
        "\n",
        "# Vanguard Health Care Index Fund (Healthcare Industry)\n",
        "df = pdr.get_data_yahoo('VHT', start='2009-01-01')\n",
        "df.index = df.index.strftime(\"%Y-%m-%d %H:%M:%S\")\n",
        "benchmark_dict['VHT'] = df.to_dict('index')\n",
        "\n",
        "#SPDR S&P Pharmaceuticals ETF (Pharmaceutical Drug Industry)\n",
        "df = pdr.get_data_yahoo('XPH', start='2009-01-01')\n",
        "df.index = df.index.strftime(\"%Y-%m-%d %H:%M:%S\")\n",
        "benchmark_dict['XPH'] = df.to_dict('index')\n",
        "```"
      ]
    },
    {
      "cell_type": "code",
      "metadata": {
        "id": "T9iZzDvox5CJ",
        "colab_type": "code",
        "colab": {}
      },
      "source": [
        ""
      ],
      "execution_count": 0,
      "outputs": []
    },
    {
      "cell_type": "markdown",
      "metadata": {
        "id": "6VtyiYGXx5CQ",
        "colab_type": "text"
      },
      "source": [
        "### Creating the Target"
      ]
    },
    {
      "cell_type": "code",
      "metadata": {
        "id": "oeNE6hB0yNUZ",
        "colab_type": "code",
        "colab": {}
      },
      "source": [
        "#Next Day Max/Min Value (% Difference from Closing Price)¶\n",
        "start = datetime.datetime.now()\n",
        "period = [1, 2]\n",
        "for stock in stocks:\n",
        "    \n",
        "    stock_dict_list = data[stock]\n",
        "    num_days = len(stock_dict_list)\n",
        "    for index, dict_ in enumerate(stock_dict_list):\n",
        "        _open = dict_['Open']\n",
        "        if index+period[1] >= num_days:\n",
        "            _low = None\n",
        "            _max = None\n",
        "        else:\n",
        "            _low = np.min([dict_['Low'] for dict_ in stock_dict_list[index+period[0]:index+period[1]]])/ _open -1\n",
        "            _max = np.max([dict_['High'] for dict_ in stock_dict_list[index+period[0]:index+period[1]]])/ _open -1\n",
        "        stock_dict_list[index]['Low_1'] = _low\n",
        "        stock_dict_list[index]['Max_1'] = _max\n",
        "    data[stock] = stock_dict_list\n",
        "\n",
        "# 3 Day Max/Min Value (% Difference from Closing Price)\n",
        "# The range is from the 2nd day to the 3rd after the input day\n",
        "start = datetime.datetime.now()\n",
        "period = [2, 4]\n",
        "for stock in stocks:\n",
        "    \n",
        "    stock_dict_list = data[stock]\n",
        "    num_days = len(stock_dict_list)\n",
        "    for index, dict_ in enumerate(stock_dict_list):\n",
        "        _open = dict_['Open']\n",
        "        if index+period[1] >= num_days:\n",
        "            _low = None\n",
        "            _max = None\n",
        "        else:\n",
        "            _low = np.min([dict_['Low'] for dict_ in stock_dict_list[index+period[0]:index+period[1]]])/ _open -1\n",
        "            _max = np.max([dict_['High'] for dict_ in stock_dict_list[index+period[0]:index+period[1]]])/ _open -1\n",
        "        stock_dict_list[index]['Low_3'] = _low\n",
        "        stock_dict_list[index]['Max_3'] = _max\n",
        "    data[stock] = stock_dict_list\n",
        "\n",
        "# 10 Day Max/Min Value (% Difference from Closing Price)\n",
        "# The range is from the 4th day to the 10th after the input day\n",
        "\n",
        "start = datetime.datetime.now()\n",
        "period = [4, 11]\n",
        "for stock in stocks:\n",
        "    \n",
        "    stock_dict_list = data[stock]\n",
        "    num_days = len(stock_dict_list)\n",
        "    for index, dict_ in enumerate(stock_dict_list):\n",
        "        _open = dict_['Open']\n",
        "        if index+period[1] >= num_days:\n",
        "            _low = None\n",
        "            _max = None\n",
        "        else:\n",
        "            _low = np.min([dict_['Low'] for dict_ in stock_dict_list[index+period[0]:index+period[1]]])/ _open -1\n",
        "            _max = np.max([dict_['High'] for dict_ in stock_dict_list[index+period[0]:index+period[1]]])/ _open -1\n",
        "        stock_dict_list[index]['Low_10'] = _low\n",
        "        stock_dict_list[index]['Max_10'] = _max\n",
        "    data[stock] = stock_dict_list\n",
        "\n",
        "# 30 Day Max/Min Value (% Difference from Closing Price)\n",
        "# The range is from the 11th day to the 30th after the input day\n",
        "start = datetime.datetime.now()\n",
        "period = [11, 31]\n",
        "for stock in stocks:\n",
        "    \n",
        "    stock_dict_list = data[stock]\n",
        "    num_days = len(stock_dict_list)\n",
        "    for index, dict_ in enumerate(stock_dict_list):\n",
        "        _open = dict_['Open']\n",
        "        if index+period[1] >= num_days:\n",
        "            _low = None\n",
        "            _max = None\n",
        "        else:\n",
        "            _low = np.min([dict_['Low'] for dict_ in stock_dict_list[index+period[0]:index+period[1]]])/ _open -1\n",
        "            _max = np.max([dict_['High'] for dict_ in stock_dict_list[index+period[0]:index+period[1]]])/ _open -1\n",
        "        stock_dict_list[index]['Low_30'] = _low\n",
        "        stock_dict_list[index]['Max_30'] = _max\n",
        "    data[stock] = stock_dict_list"
      ],
      "execution_count": 0,
      "outputs": []
    },
    {
      "cell_type": "markdown",
      "metadata": {
        "id": "POuGe9x-zAe1",
        "colab_type": "text"
      },
      "source": [
        "#### Scaling Input"
      ]
    },
    {
      "cell_type": "code",
      "metadata": {
        "id": "uyHXUTqzzHAh",
        "colab_type": "code",
        "colab": {}
      },
      "source": [
        "for stock in stocks:\n",
        "  df = pd.DataFrame(data[stock])\n",
        "  max_value = df[['High', 'Low', 'Open', 'Close', 'Adj Close']].max()\n",
        "  df[['High', 'Low', 'Open', 'Close', 'Adj Close']] = df[['High', 'Low', 'Open', 'Close', 'Adj Close']]/max_value\n",
        "  df['Volume'] = df['Volume']/ df['Volume'].max()\n",
        "  data[stock] = df.to_dict('records')"
      ],
      "execution_count": 0,
      "outputs": []
    },
    {
      "cell_type": "markdown",
      "metadata": {
        "id": "ZSgGYHPRx5Ce",
        "colab_type": "text"
      },
      "source": [
        "#### Dividing all volume data by largest volume value"
      ]
    },
    {
      "cell_type": "markdown",
      "metadata": {
        "id": "e2sOhDW6x5Cs",
        "colab_type": "text"
      },
      "source": [
        "#### Scaling High, Low, Open, Close and droping Adj Close"
      ]
    },
    {
      "cell_type": "markdown",
      "metadata": {
        "id": "BBaOGnikywK7",
        "colab_type": "text"
      },
      "source": [
        ""
      ]
    },
    {
      "cell_type": "code",
      "metadata": {
        "id": "DLYnbjYeyu0y",
        "colab_type": "code",
        "colab": {}
      },
      "source": [
        "processed_data = {}\n",
        "\n",
        "for stock in stocks:\n",
        "  x = []\n",
        "  target = []\n",
        "  dict_ = {}\n",
        "  for i in data[stock]:\n",
        "    row =np.array([i['High'], i['Low'], i['Open'], i['Close'], i['Adj Close'], i['Volume']])\n",
        "    x.append(row)\n",
        "    row = np.array(i['Low_1'])\n",
        "    target.append(row)\n",
        "  dict_['Data'] = x\n",
        "  dict_['Target'] = target\n",
        "  processed_data[stock] = dict_"
      ],
      "execution_count": 0,
      "outputs": []
    },
    {
      "cell_type": "code",
      "metadata": {
        "id": "mxB68JDiJZ7M",
        "colab_type": "code",
        "colab": {}
      },
      "source": [
        "for stock in stocks:\n",
        "  length_ = len(processed_data[stock]['Data'])\n",
        "  length_test = len(processed_data[stock]['Data'])//8\n",
        "  test_start = np.random.choice(list(range(length_*3//4,length_-length_test+1)))\n",
        "  test_end = length_test+ test_start\n",
        "  processed_data[stock]['data_1'] = np.array(processed_data[stock]['Data'][:test_start])\n",
        "  processed_data[stock]['data_1'] =   processed_data[stock]['data_1'].reshape(len(processed_data[stock]['data_1']), 1, 6)\n",
        "  processed_data[stock]['data_test'] = np.array(processed_data[stock]['Data'][test_start:-10])\n",
        "  processed_data[stock]['data_test'] = processed_data[stock]['data_test'].reshape(len(processed_data[stock]['data_test']),1,6)\n",
        "  transfer_list = np.array(processed_data[stock]['Target'][:test_start])\n",
        "  processed_data[stock]['target_1'] =transfer_list.reshape(len(transfer_list), 1)\n",
        "  transfer_list = np.array(processed_data[stock]['Target'][test_start:-10])\n",
        "  processed_data[stock]['target_test'] = transfer_list.reshape(len(transfer_list),1)"
      ],
      "execution_count": 0,
      "outputs": []
    },
    {
      "cell_type": "code",
      "metadata": {
        "id": "gxJmCXmt6DjZ",
        "colab_type": "code",
        "colab": {
          "base_uri": "https://localhost:8080/",
          "height": 266
        },
        "outputId": "752253f7-fba5-4143-bece-8f3b6d588b49"
      },
      "source": [
        "model = models.Sequential()\n",
        "model.add(layers.GRU(50, return_sequences=True, input_shape=(1,6)))\n",
        "model.add(layers.Dropout(0.2))\n",
        "model.add(layers.GRU(100, return_sequences=False))\n",
        "model.add(layers.Dropout(0.2))\n",
        "model.add(layers.Dense(1, activation = \"linear\"))\n",
        "\n",
        "model.compile(loss='mse', optimizer='adam')\n"
      ],
      "execution_count": 10,
      "outputs": [
        {
          "output_type": "stream",
          "text": [
            "WARNING:tensorflow:From /usr/local/lib/python3.6/dist-packages/keras/backend/tensorflow_backend.py:66: The name tf.get_default_graph is deprecated. Please use tf.compat.v1.get_default_graph instead.\n",
            "\n",
            "WARNING:tensorflow:From /usr/local/lib/python3.6/dist-packages/keras/backend/tensorflow_backend.py:541: The name tf.placeholder is deprecated. Please use tf.compat.v1.placeholder instead.\n",
            "\n",
            "WARNING:tensorflow:From /usr/local/lib/python3.6/dist-packages/keras/backend/tensorflow_backend.py:4432: The name tf.random_uniform is deprecated. Please use tf.random.uniform instead.\n",
            "\n",
            "WARNING:tensorflow:From /usr/local/lib/python3.6/dist-packages/keras/backend/tensorflow_backend.py:148: The name tf.placeholder_with_default is deprecated. Please use tf.compat.v1.placeholder_with_default instead.\n",
            "\n",
            "WARNING:tensorflow:From /usr/local/lib/python3.6/dist-packages/keras/backend/tensorflow_backend.py:3733: calling dropout (from tensorflow.python.ops.nn_ops) with keep_prob is deprecated and will be removed in a future version.\n",
            "Instructions for updating:\n",
            "Please use `rate` instead of `keep_prob`. Rate should be set to `rate = 1 - keep_prob`.\n",
            "WARNING:tensorflow:From /usr/local/lib/python3.6/dist-packages/keras/optimizers.py:793: The name tf.train.Optimizer is deprecated. Please use tf.compat.v1.train.Optimizer instead.\n",
            "\n"
          ],
          "name": "stdout"
        }
      ]
    },
    {
      "cell_type": "code",
      "metadata": {
        "id": "VnpUFR7l6RHT",
        "colab_type": "code",
        "colab": {
          "base_uri": "https://localhost:8080/",
          "height": 1000
        },
        "outputId": "efcda298-2a50-4bd2-ea83-dcb4ad17c5d7"
      },
      "source": [
        "feature_train, label_train, feature_test, label_test = processed_data['IMMU']['data_1'],processed_data['IMMU']['target_1'], processed_data['IMMU']['data_test'], processed_data['IMMU']['target_test'] \n",
        "model.fit(feature_train, label_train, batch_size=100, epochs=20, validation_data = (feature_test, label_test),)\n",
        "\n"
      ],
      "execution_count": 11,
      "outputs": [
        {
          "output_type": "stream",
          "text": [
            "WARNING:tensorflow:From /usr/local/lib/python3.6/dist-packages/tensorflow_core/python/ops/math_grad.py:1424: where (from tensorflow.python.ops.array_ops) is deprecated and will be removed in a future version.\n",
            "Instructions for updating:\n",
            "Use tf.where in 2.0, which has the same broadcast rule as np.where\n",
            "WARNING:tensorflow:From /usr/local/lib/python3.6/dist-packages/keras/backend/tensorflow_backend.py:1033: The name tf.assign_add is deprecated. Please use tf.compat.v1.assign_add instead.\n",
            "\n",
            "WARNING:tensorflow:From /usr/local/lib/python3.6/dist-packages/keras/backend/tensorflow_backend.py:1020: The name tf.assign is deprecated. Please use tf.compat.v1.assign instead.\n",
            "\n",
            "WARNING:tensorflow:From /usr/local/lib/python3.6/dist-packages/keras/backend/tensorflow_backend.py:3005: The name tf.Session is deprecated. Please use tf.compat.v1.Session instead.\n",
            "\n",
            "Train on 4183 samples, validate on 857 samples\n",
            "Epoch 1/20\n",
            "WARNING:tensorflow:From /usr/local/lib/python3.6/dist-packages/keras/backend/tensorflow_backend.py:190: The name tf.get_default_session is deprecated. Please use tf.compat.v1.get_default_session instead.\n",
            "\n",
            "WARNING:tensorflow:From /usr/local/lib/python3.6/dist-packages/keras/backend/tensorflow_backend.py:197: The name tf.ConfigProto is deprecated. Please use tf.compat.v1.ConfigProto instead.\n",
            "\n",
            "WARNING:tensorflow:From /usr/local/lib/python3.6/dist-packages/keras/backend/tensorflow_backend.py:207: The name tf.global_variables is deprecated. Please use tf.compat.v1.global_variables instead.\n",
            "\n",
            "WARNING:tensorflow:From /usr/local/lib/python3.6/dist-packages/keras/backend/tensorflow_backend.py:216: The name tf.is_variable_initialized is deprecated. Please use tf.compat.v1.is_variable_initialized instead.\n",
            "\n",
            "WARNING:tensorflow:From /usr/local/lib/python3.6/dist-packages/keras/backend/tensorflow_backend.py:223: The name tf.variables_initializer is deprecated. Please use tf.compat.v1.variables_initializer instead.\n",
            "\n",
            "4183/4183 [==============================] - 2s 548us/step - loss: 0.0035 - val_loss: 0.0023\n",
            "Epoch 2/20\n",
            "4183/4183 [==============================] - 0s 82us/step - loss: 0.0034 - val_loss: 0.0028\n",
            "Epoch 3/20\n",
            "4183/4183 [==============================] - 0s 107us/step - loss: 0.0033 - val_loss: 0.0028\n",
            "Epoch 4/20\n",
            "4183/4183 [==============================] - 0s 80us/step - loss: 0.0032 - val_loss: 0.0023\n",
            "Epoch 5/20\n",
            "4183/4183 [==============================] - 0s 79us/step - loss: 0.0031 - val_loss: 0.0027\n",
            "Epoch 6/20\n",
            "4183/4183 [==============================] - 0s 81us/step - loss: 0.0030 - val_loss: 0.0026\n",
            "Epoch 7/20\n",
            "4183/4183 [==============================] - 0s 81us/step - loss: 0.0028 - val_loss: 0.0040\n",
            "Epoch 8/20\n",
            "4183/4183 [==============================] - 0s 79us/step - loss: 0.0027 - val_loss: 0.0029\n",
            "Epoch 9/20\n",
            "4183/4183 [==============================] - 0s 80us/step - loss: 0.0026 - val_loss: 0.0022\n",
            "Epoch 10/20\n",
            "4183/4183 [==============================] - 0s 88us/step - loss: 0.0026 - val_loss: 0.0029\n",
            "Epoch 11/20\n",
            "4183/4183 [==============================] - 0s 80us/step - loss: 0.0024 - val_loss: 0.0034\n",
            "Epoch 12/20\n",
            "4183/4183 [==============================] - 0s 83us/step - loss: 0.0024 - val_loss: 0.0049\n",
            "Epoch 13/20\n",
            "4183/4183 [==============================] - 0s 91us/step - loss: 0.0024 - val_loss: 0.0024\n",
            "Epoch 14/20\n",
            "4183/4183 [==============================] - 0s 89us/step - loss: 0.0023 - val_loss: 0.0025\n",
            "Epoch 15/20\n",
            "4183/4183 [==============================] - 0s 97us/step - loss: 0.0024 - val_loss: 0.0028\n",
            "Epoch 16/20\n",
            "4183/4183 [==============================] - 0s 84us/step - loss: 0.0024 - val_loss: 0.0016\n",
            "Epoch 17/20\n",
            "4183/4183 [==============================] - 0s 86us/step - loss: 0.0023 - val_loss: 0.0021\n",
            "Epoch 18/20\n",
            "4183/4183 [==============================] - 0s 80us/step - loss: 0.0023 - val_loss: 0.0018\n",
            "Epoch 19/20\n",
            "4183/4183 [==============================] - 0s 79us/step - loss: 0.0022 - val_loss: 0.0019\n",
            "Epoch 20/20\n",
            "4183/4183 [==============================] - 0s 81us/step - loss: 0.0023 - val_loss: 0.0016\n"
          ],
          "name": "stdout"
        },
        {
          "output_type": "execute_result",
          "data": {
            "text/plain": [
              "<keras.callbacks.History at 0x7faedc9224a8>"
            ]
          },
          "metadata": {
            "tags": []
          },
          "execution_count": 11
        }
      ]
    },
    {
      "cell_type": "code",
      "metadata": {
        "id": "dn15fE9Mbz0S",
        "colab_type": "code",
        "colab": {
          "base_uri": "https://localhost:8080/",
          "height": 321
        },
        "outputId": "6fb5a88d-4b59-4cc3-c0c2-38c407bdd840"
      },
      "source": [
        "dict_ = model.history.history\n",
        "plt.figure(figsize=(8,5))\n",
        "plt.plot(dict_['loss'], label = 'Loss')\n",
        "plt.plot(dict_['val_loss'], label= 'Validation Loss')\n",
        "plt.legend(bbox_to_anchor=(1.05, 1))\n",
        "plt.show()"
      ],
      "execution_count": 12,
      "outputs": [
        {
          "output_type": "display_data",
          "data": {
            "image/png": "[encoded data removed]",
            "text/plain": [
              "<Figure size 576x360 with 1 Axes>"
            ]
          },
          "metadata": {
            "tags": []
          }
        }
      ]
    },
    {
      "cell_type": "code",
      "metadata": {
        "id": "GIFHbvYykrTi",
        "colab_type": "code",
        "colab": {
          "base_uri": "https://localhost:8080/",
          "height": 34
        },
        "outputId": "c9337ad9-bc53-4b8e-b0e8-259d0694a8a3"
      },
      "source": [
        "predict_train = model.predict(feature_train)\n",
        "predict_test = model.predict(feature_test)\n",
        "r2_score(predict_test, label_test), r2_score(predict_train, label_train)"
      ],
      "execution_count": 13,
      "outputs": [
        {
          "output_type": "execute_result",
          "data": {
            "text/plain": [
              "(-0.18987551099811828, -1.070850212661946)"
            ]
          },
          "metadata": {
            "tags": []
          },
          "execution_count": 13
        }
      ]
    },
    {
      "cell_type": "code",
      "metadata": {
        "id": "RNEwTRXUk0Nq",
        "colab_type": "code",
        "colab": {
          "base_uri": "https://localhost:8080/",
          "height": 320
        },
        "outputId": "0687654e-defb-4ee7-b619-e203b34f72ee"
      },
      "source": [
        "plt.figure(figsize=(8,5))\n",
        "plt.plot(predict_train- label_train, label = 'Residual')\n",
        "plt.legend(bbox_to_anchor=(1.05, 1))\n",
        "plt.show()"
      ],
      "execution_count": 14,
      "outputs": [
        {
          "output_type": "display_data",
          "data": {
            "image/png": "[encoded data removed]",
            "text/plain": [
              "<Figure size 576x360 with 1 Axes>"
            ]
          },
          "metadata": {
            "tags": []
          }
        }
      ]
    },
    {
      "cell_type": "code",
      "metadata": {
        "id": "MWXvqjb1mmXD",
        "colab_type": "code",
        "colab": {
          "base_uri": "https://localhost:8080/",
          "height": 320
        },
        "outputId": "ab4c2e5a-db28-4e13-bc96-be6ff47677a1"
      },
      "source": [
        "plt.figure(figsize=(8,5))\n",
        "sns.distplot(predict_train- label_train, label = 'Residual')\n",
        "plt.legend(bbox_to_anchor=(1.05, 1))\n",
        "plt.show()"
      ],
      "execution_count": 15,
      "outputs": [
        {
          "output_type": "display_data",
          "data": {
            "image/png": "[encoded data removed]",
            "text/plain": [
              "<Figure size 576x360 with 1 Axes>"
            ]
          },
          "metadata": {
            "tags": []
          }
        }
      ]
    },
    {
      "cell_type": "code",
      "metadata": {
        "id": "raAJkglUZc_u",
        "colab_type": "code",
        "colab": {
          "base_uri": "https://localhost:8080/",
          "height": 756
        },
        "outputId": "79e73453-2af0-4a56-fabc-834ad63907c9"
      },
      "source": [
        "feature_train, label_train, feature_test, label_test = processed_data['SGMO']['data_1'],processed_data['SGMO']['target_1'], processed_data['SGMO']['data_test'], processed_data['SGMO']['target_test'] \n",
        "model.fit(feature_train, label_train, batch_size=100, epochs=20, validation_data = (feature_test, label_test),)"
      ],
      "execution_count": 16,
      "outputs": [
        {
          "output_type": "stream",
          "text": [
            "Train on 3805 samples, validate on 1169 samples\n",
            "Epoch 1/20\n",
            "3805/3805 [==============================] - 0s 96us/step - loss: 0.0024 - val_loss: 0.0018\n",
            "Epoch 2/20\n",
            "3805/3805 [==============================] - 0s 115us/step - loss: 0.0025 - val_loss: 0.0023\n",
            "Epoch 3/20\n",
            "3805/3805 [==============================] - 0s 99us/step - loss: 0.0025 - val_loss: 0.0022\n",
            "Epoch 4/20\n",
            "3805/3805 [==============================] - 0s 106us/step - loss: 0.0025 - val_loss: 0.0019\n",
            "Epoch 5/20\n",
            "3805/3805 [==============================] - 0s 98us/step - loss: 0.0023 - val_loss: 0.0027\n",
            "Epoch 6/20\n",
            "3805/3805 [==============================] - 0s 101us/step - loss: 0.0024 - val_loss: 0.0018\n",
            "Epoch 7/20\n",
            "3805/3805 [==============================] - 0s 112us/step - loss: 0.0022 - val_loss: 0.0020\n",
            "Epoch 8/20\n",
            "3805/3805 [==============================] - 0s 98us/step - loss: 0.0023 - val_loss: 0.0017\n",
            "Epoch 9/20\n",
            "3805/3805 [==============================] - 0s 87us/step - loss: 0.0022 - val_loss: 0.0018\n",
            "Epoch 10/20\n",
            "3805/3805 [==============================] - 0s 110us/step - loss: 0.0023 - val_loss: 0.0018\n",
            "Epoch 11/20\n",
            "3805/3805 [==============================] - 0s 108us/step - loss: 0.0023 - val_loss: 0.0017\n",
            "Epoch 12/20\n",
            "3805/3805 [==============================] - 0s 103us/step - loss: 0.0022 - val_loss: 0.0018\n",
            "Epoch 13/20\n",
            "3805/3805 [==============================] - 0s 108us/step - loss: 0.0022 - val_loss: 0.0016\n",
            "Epoch 14/20\n",
            "3805/3805 [==============================] - 0s 81us/step - loss: 0.0022 - val_loss: 0.0023\n",
            "Epoch 15/20\n",
            "3805/3805 [==============================] - 0s 108us/step - loss: 0.0021 - val_loss: 0.0018\n",
            "Epoch 16/20\n",
            "3805/3805 [==============================] - 0s 87us/step - loss: 0.0023 - val_loss: 0.0016\n",
            "Epoch 17/20\n",
            "3805/3805 [==============================] - 0s 94us/step - loss: 0.0021 - val_loss: 0.0016\n",
            "Epoch 18/20\n",
            "3805/3805 [==============================] - 0s 114us/step - loss: 0.0020 - val_loss: 0.0017\n",
            "Epoch 19/20\n",
            "3805/3805 [==============================] - 0s 83us/step - loss: 0.0020 - val_loss: 0.0017\n",
            "Epoch 20/20\n",
            "3805/3805 [==============================] - 0s 85us/step - loss: 0.0020 - val_loss: 0.0023\n"
          ],
          "name": "stdout"
        },
        {
          "output_type": "execute_result",
          "data": {
            "text/plain": [
              "<keras.callbacks.History at 0x7faec6194940>"
            ]
          },
          "metadata": {
            "tags": []
          },
          "execution_count": 16
        }
      ]
    },
    {
      "cell_type": "code",
      "metadata": {
        "id": "5dbEcBHzbi37",
        "colab_type": "code",
        "colab": {
          "base_uri": "https://localhost:8080/",
          "height": 320
        },
        "outputId": "5e5c1eee-78b8-4545-905d-25fdba2a1097"
      },
      "source": [
        "dict_ = model.history.history\n",
        "plt.figure(figsize=(8,5))\n",
        "plt.plot(dict_['loss'], label = 'Loss')\n",
        "plt.plot(dict_['val_loss'], label= 'Validation Loss')\n",
        "plt.legend(bbox_to_anchor=(1.05, 1))\n",
        "plt.show()"
      ],
      "execution_count": 17,
      "outputs": [
        {
          "output_type": "display_data",
          "data": {
            "image/png": "[encoded data removed]",
            "text/plain": [
              "<Figure size 576x360 with 1 Axes>"
            ]
          },
          "metadata": {
            "tags": []
          }
        }
      ]
    },
    {
      "cell_type": "code",
      "metadata": {
        "id": "xR5eZ1l3fq2f",
        "colab_type": "code",
        "colab": {
          "base_uri": "https://localhost:8080/",
          "height": 34
        },
        "outputId": "59278e05-9f6e-4fad-e3d1-4d8c91af2782"
      },
      "source": [
        "predict_train = model.predict(feature_train)\n",
        "predict_test = model.predict(feature_test)\n",
        "r2_score(predict_test, label_test), r2_score(predict_train, label_train)\n"
      ],
      "execution_count": 18,
      "outputs": [
        {
          "output_type": "execute_result",
          "data": {
            "text/plain": [
              "(-0.4449197890456531, -0.4759713601893738)"
            ]
          },
          "metadata": {
            "tags": []
          },
          "execution_count": 18
        }
      ]
    },
    {
      "cell_type": "code",
      "metadata": {
        "id": "6v9QnNTFgL8Q",
        "colab_type": "code",
        "colab": {
          "base_uri": "https://localhost:8080/",
          "height": 320
        },
        "outputId": "11b3f716-70bb-4a83-c817-c4a23698ce14"
      },
      "source": [
        "plt.figure(figsize=(8,5))\n",
        "plt.plot(predict_train- label_train, label = 'Residual')\n",
        "plt.legend(bbox_to_anchor=(1.05, 1))\n",
        "plt.show()"
      ],
      "execution_count": 19,
      "outputs": [
        {
          "output_type": "display_data",
          "data": {
            "image/png": "[encoded data removed]",
            "text/plain": [
              "<Figure size 576x360 with 1 Axes>"
            ]
          },
          "metadata": {
            "tags": []
          }
        }
      ]
    },
    {
      "cell_type": "code",
      "metadata": {
        "id": "5JGOyTaSmv8l",
        "colab_type": "code",
        "colab": {
          "base_uri": "https://localhost:8080/",
          "height": 320
        },
        "outputId": "e1089d16-e2ae-4c1c-88e6-3185ac727d70"
      },
      "source": [
        "plt.figure(figsize=(8,5))\n",
        "sns.distplot(predict_train- label_train, label = 'Residual')\n",
        "plt.legend(bbox_to_anchor=(1.05, 1))\n",
        "plt.show()"
      ],
      "execution_count": 20,
      "outputs": [
        {
          "output_type": "display_data",
          "data": {
            "image/png": "[encoded data removed]",
            "text/plain": [
              "<Figure size 576x360 with 1 Axes>"
            ]
          },
          "metadata": {
            "tags": []
          }
        }
      ]
    },
    {
      "cell_type": "code",
      "metadata": {
        "id": "1yZQKWF5hESE",
        "colab_type": "code",
        "colab": {}
      },
      "source": [
        ""
      ],
      "execution_count": 0,
      "outputs": []
    }
  ]
}